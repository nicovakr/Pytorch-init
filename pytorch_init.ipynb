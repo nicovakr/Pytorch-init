{
  "nbformat": 4,
  "nbformat_minor": 0,
  "metadata": {
    "colab": {
      "name": "pytorch_init.ipynb",
      "provenance": [],
      "collapsed_sections": [],
      "authorship_tag": "ABX9TyPPdjTJ9ZhrqGZE3BVm/jrT",
      "include_colab_link": true
    },
    "kernelspec": {
      "name": "python3",
      "display_name": "Python 3"
    },
    "language_info": {
      "name": "python"
    }
  },
  "cells": [
    {
      "cell_type": "markdown",
      "metadata": {
        "id": "view-in-github",
        "colab_type": "text"
      },
      "source": [
        "<a href=\"https://colab.research.google.com/github/nicovakr/Pytorch-init/blob/master/pytorch_init.ipynb\" target=\"_parent\"><img src=\"https://colab.research.google.com/assets/colab-badge.svg\" alt=\"Open In Colab\"/></a>"
      ]
    },
    {
      "cell_type": "markdown",
      "source": [
        "# PyTorch for Deep Learning"
      ],
      "metadata": {
        "id": "xRvxYuONl_wT"
      }
    },
    {
      "cell_type": "code",
      "execution_count": 5,
      "metadata": {
        "id": "7i_cGX4OkG1X"
      },
      "outputs": [],
      "source": [
        "import torch\n",
        "import torchvision\n",
        "import torchaudio"
      ]
    },
    {
      "cell_type": "code",
      "source": [
        "import numpy as np"
      ],
      "metadata": {
        "id": "E2DYe0C3kMzv"
      },
      "execution_count": 31,
      "outputs": []
    },
    {
      "cell_type": "code",
      "source": [
        ""
      ],
      "metadata": {
        "id": "CG0Bgjs5kM2G"
      },
      "execution_count": null,
      "outputs": []
    },
    {
      "cell_type": "markdown",
      "source": [
        "# PyTorch Basics : Tensors and Gradients"
      ],
      "metadata": {
        "id": "hTSbhxgrnfOM"
      }
    },
    {
      "cell_type": "markdown",
      "source": [
        "## Tensor : number, vector, matrix, or any n-dimensional array."
      ],
      "metadata": {
        "id": "sWJ5fmoRnwJL"
      }
    },
    {
      "cell_type": "code",
      "source": [
        "#entry is a number\n",
        "t1 = torch.tensor(4.)\n",
        "t1, t1.dtype"
      ],
      "metadata": {
        "colab": {
          "base_uri": "https://localhost:8080/"
        },
        "id": "fRgL-JXzmMi2",
        "outputId": "8faf8be6-d439-4cdc-c92e-e1c2fa79cb3f"
      },
      "execution_count": 7,
      "outputs": [
        {
          "output_type": "execute_result",
          "data": {
            "text/plain": [
              "(tensor(4.), torch.float32)"
            ]
          },
          "metadata": {},
          "execution_count": 7
        }
      ]
    },
    {
      "cell_type": "code",
      "source": [
        "#entry is a list/vector\n",
        "t2 = torch.tensor([1., 2, 3, 4])\n",
        "t2"
      ],
      "metadata": {
        "colab": {
          "base_uri": "https://localhost:8080/"
        },
        "id": "rYQAR5tmkM5T",
        "outputId": "f68e6fa3-0675-40db-b82d-526df89eb68c"
      },
      "execution_count": 8,
      "outputs": [
        {
          "output_type": "execute_result",
          "data": {
            "text/plain": [
              "tensor([1., 2., 3., 4.])"
            ]
          },
          "metadata": {},
          "execution_count": 8
        }
      ]
    },
    {
      "cell_type": "code",
      "source": [
        "#entry is a matrix\n",
        "t3 = torch.tensor([[5,6], [7,8], [9,10]]) \n",
        "t3"
      ],
      "metadata": {
        "colab": {
          "base_uri": "https://localhost:8080/"
        },
        "id": "ljInhQ39kM7v",
        "outputId": "e2c1e52d-2fa7-4042-fa29-b051fb1ceea4"
      },
      "execution_count": 9,
      "outputs": [
        {
          "output_type": "execute_result",
          "data": {
            "text/plain": [
              "tensor([[ 5,  6],\n",
              "        [ 7,  8],\n",
              "        [ 9, 10]])"
            ]
          },
          "metadata": {},
          "execution_count": 9
        }
      ]
    },
    {
      "cell_type": "code",
      "source": [
        "#entry is a 3D array\n",
        "t4 = torch.tensor([[[11, 12, 13],[13, 14, 15]],  \n",
        "                   [[15, 16, 17],[17, 18, 19.]]])\n",
        "t4"
      ],
      "metadata": {
        "colab": {
          "base_uri": "https://localhost:8080/"
        },
        "id": "LlzChXGQkM-a",
        "outputId": "a9b17306-7d7d-45ab-e088-e4fac39352f3"
      },
      "execution_count": 10,
      "outputs": [
        {
          "output_type": "execute_result",
          "data": {
            "text/plain": [
              "tensor([[[11., 12., 13.],\n",
              "         [13., 14., 15.]],\n",
              "\n",
              "        [[15., 16., 17.],\n",
              "         [17., 18., 19.]]])"
            ]
          },
          "metadata": {},
          "execution_count": 10
        }
      ]
    },
    {
      "cell_type": "code",
      "source": [
        "#t1 : nombre\n",
        "#t2 : longueur vector\n",
        "#t3 : shape ligne, colonne\n",
        "#t4 : shape prof, ligne, colonne\n",
        "t1.shape, t2.shape, t3.shape, t4.shape"
      ],
      "metadata": {
        "colab": {
          "base_uri": "https://localhost:8080/"
        },
        "id": "mJIysKyakNHc",
        "outputId": "3e9b349b-ea95-4cb6-d44f-49903a925546"
      },
      "execution_count": 11,
      "outputs": [
        {
          "output_type": "execute_result",
          "data": {
            "text/plain": [
              "(torch.Size([]), torch.Size([4]), torch.Size([3, 2]), torch.Size([2, 2, 3]))"
            ]
          },
          "metadata": {},
          "execution_count": 11
        }
      ]
    },
    {
      "cell_type": "markdown",
      "source": [
        "## Tensor operations and gradients"
      ],
      "metadata": {
        "id": "hej8ozBPqMK1"
      }
    },
    {
      "cell_type": "code",
      "source": [
        "#create tensors with requires_grad = True or not\n",
        "x = torch.tensor(3.)\n",
        "w = torch.tensor(4., requires_grad=True)\n",
        "b = torch.tensor(5., requires_grad=True)\n",
        "x, w, b"
      ],
      "metadata": {
        "colab": {
          "base_uri": "https://localhost:8080/"
        },
        "id": "2OsLIjaPqFtH",
        "outputId": "41a6f81d-d2c6-4e4c-e5ca-257624f19f79"
      },
      "execution_count": 27,
      "outputs": [
        {
          "output_type": "execute_result",
          "data": {
            "text/plain": [
              "(tensor(3.), tensor(4., requires_grad=True), tensor(5., requires_grad=True))"
            ]
          },
          "metadata": {},
          "execution_count": 27
        }
      ]
    },
    {
      "cell_type": "code",
      "source": [
        "y = w*x+b\n",
        "y"
      ],
      "metadata": {
        "colab": {
          "base_uri": "https://localhost:8080/"
        },
        "id": "pmk8xzjZqFp1",
        "outputId": "b8c18b7b-767e-4f90-9b10-c7a2f663bfb0"
      },
      "execution_count": 28,
      "outputs": [
        {
          "output_type": "execute_result",
          "data": {
            "text/plain": [
              "tensor(17., grad_fn=<AddBackward0>)"
            ]
          },
          "metadata": {},
          "execution_count": 28
        }
      ]
    },
    {
      "cell_type": "code",
      "source": [
        "#compute derivaties\n",
        "y.backward() "
      ],
      "metadata": {
        "id": "iuJ4hBT6qFls"
      },
      "execution_count": 29,
      "outputs": []
    },
    {
      "cell_type": "markdown",
      "source": [
        "PyTorch permet de calculer des derivees par rapport aux tensors avec 'requires_grad' = True (called autograd)."
      ],
      "metadata": {
        "id": "DPaq019Vq-SK"
      }
    },
    {
      "cell_type": "code",
      "source": [
        "#partial derivaties :\n",
        "print('dy/dx:', x.grad)\n",
        "print('dy/dw:', w.grad)\n",
        "print('dy/db:', b.grad) # y = x*w+b -> y'/db = 1"
      ],
      "metadata": {
        "colab": {
          "base_uri": "https://localhost:8080/"
        },
        "id": "d68BtAReqFiv",
        "outputId": "079a05d0-a09f-43c3-c48e-42be9c94f9fb"
      },
      "execution_count": 30,
      "outputs": [
        {
          "output_type": "stream",
          "name": "stdout",
          "text": [
            "dy/dx: None\n",
            "dy/dw: tensor(3.)\n",
            "dy/db: tensor(1.)\n"
          ]
        }
      ]
    },
    {
      "cell_type": "code",
      "source": [
        "#create a tensor with a fixed value for every element\n",
        "t6 = torch.full((3,2), 23)\n",
        "t6"
      ],
      "metadata": {
        "colab": {
          "base_uri": "https://localhost:8080/"
        },
        "id": "k7n6rps2r9OL",
        "outputId": "33e88269-c83d-4ba3-9a8a-fa47de5ed4e6"
      },
      "execution_count": 32,
      "outputs": [
        {
          "output_type": "execute_result",
          "data": {
            "text/plain": [
              "tensor([[23, 23],\n",
              "        [23, 23],\n",
              "        [23, 23]])"
            ]
          },
          "metadata": {},
          "execution_count": 32
        }
      ]
    },
    {
      "cell_type": "code",
      "source": [
        "#concatenate two tensors with compatibles shapes\n",
        "t7 = torch.cat((t3, t6))\n",
        "t7"
      ],
      "metadata": {
        "colab": {
          "base_uri": "https://localhost:8080/"
        },
        "id": "R4JJ8Dxpr9Ki",
        "outputId": "1a3f41c4-c81c-4f64-96fd-e258cdea1993"
      },
      "execution_count": 33,
      "outputs": [
        {
          "output_type": "execute_result",
          "data": {
            "text/plain": [
              "tensor([[ 5,  6],\n",
              "        [ 7,  8],\n",
              "        [ 9, 10],\n",
              "        [23, 23],\n",
              "        [23, 23],\n",
              "        [23, 23]])"
            ]
          },
          "metadata": {},
          "execution_count": 33
        }
      ]
    },
    {
      "cell_type": "code",
      "source": [
        "#compute the sin of each element\n",
        "t8 = torch.sin(t7)\n",
        "t8"
      ],
      "metadata": {
        "colab": {
          "base_uri": "https://localhost:8080/"
        },
        "id": "OE4y43_5r9H0",
        "outputId": "c2c952cb-d285-4d97-fe4b-6e718e16444d"
      },
      "execution_count": 39,
      "outputs": [
        {
          "output_type": "execute_result",
          "data": {
            "text/plain": [
              "tensor([[-0.9589, -0.2794],\n",
              "        [ 0.6570,  0.9894],\n",
              "        [ 0.4121, -0.5440],\n",
              "        [-0.8462, -0.8462],\n",
              "        [-0.8462, -0.8462],\n",
              "        [-0.8462, -0.8462]])"
            ]
          },
          "metadata": {},
          "execution_count": 39
        }
      ]
    },
    {
      "cell_type": "code",
      "source": [
        "#change the shape of a tensor\n",
        "t9 = t8.reshape(3, 2, 2)\n",
        "t9"
      ],
      "metadata": {
        "colab": {
          "base_uri": "https://localhost:8080/"
        },
        "id": "RnZ2JnO2r9ER",
        "outputId": "aff158bc-8d19-47c9-cd0f-2edac86d2346"
      },
      "execution_count": 40,
      "outputs": [
        {
          "output_type": "execute_result",
          "data": {
            "text/plain": [
              "tensor([[[-0.9589, -0.2794],\n",
              "         [ 0.6570,  0.9894]],\n",
              "\n",
              "        [[ 0.4121, -0.5440],\n",
              "         [-0.8462, -0.8462]],\n",
              "\n",
              "        [[-0.8462, -0.8462],\n",
              "         [-0.8462, -0.8462]]])"
            ]
          },
          "metadata": {},
          "execution_count": 40
        }
      ]
    },
    {
      "cell_type": "markdown",
      "source": [
        "# Interoperability with Numpy"
      ],
      "metadata": {
        "id": "MmNIvYSbuGyR"
      }
    },
    {
      "cell_type": "code",
      "source": [
        "x = np.array([[1, 2], [3, 4.]])\n",
        "x"
      ],
      "metadata": {
        "colab": {
          "base_uri": "https://localhost:8080/"
        },
        "id": "s11b7Vfpr9As",
        "outputId": "cda17a5e-718b-4bdf-9003-00f66b12f177"
      },
      "execution_count": 41,
      "outputs": [
        {
          "output_type": "execute_result",
          "data": {
            "text/plain": [
              "array([[1., 2.],\n",
              "       [3., 4.]])"
            ]
          },
          "metadata": {},
          "execution_count": 41
        }
      ]
    },
    {
      "cell_type": "code",
      "source": [
        "# Convert the numpy array to a torch tensor.\n",
        "y = torch.from_numpy(x)\n",
        "#y = torch.tensor(x) : this method create a copy of x\n",
        "y"
      ],
      "metadata": {
        "colab": {
          "base_uri": "https://localhost:8080/"
        },
        "id": "x8dRtDTTqFf4",
        "outputId": "0ee39303-5cde-4c5f-e4f2-5f7a841323a3"
      },
      "execution_count": 45,
      "outputs": [
        {
          "output_type": "execute_result",
          "data": {
            "text/plain": [
              "tensor([[1., 2.],\n",
              "        [3., 4.]], dtype=torch.float64)"
            ]
          },
          "metadata": {},
          "execution_count": 45
        }
      ]
    },
    {
      "cell_type": "code",
      "source": [
        "x.dtype, y.dtype"
      ],
      "metadata": {
        "colab": {
          "base_uri": "https://localhost:8080/"
        },
        "id": "TKv1m9iYqFdC",
        "outputId": "3002f4ec-f33b-483a-efe7-76d6b4574b89"
      },
      "execution_count": 46,
      "outputs": [
        {
          "output_type": "execute_result",
          "data": {
            "text/plain": [
              "(dtype('float64'), torch.float64)"
            ]
          },
          "metadata": {},
          "execution_count": 46
        }
      ]
    },
    {
      "cell_type": "code",
      "source": [
        "# Convert a torch tensor to a numpy array\n",
        "z = y.numpy()\n",
        "z"
      ],
      "metadata": {
        "colab": {
          "base_uri": "https://localhost:8080/"
        },
        "id": "fFH0SmATu7V5",
        "outputId": "452f8f56-9011-46ec-c181-84dfbad71f8a"
      },
      "execution_count": 47,
      "outputs": [
        {
          "output_type": "execute_result",
          "data": {
            "text/plain": [
              "array([[1., 2.],\n",
              "       [3., 4.]])"
            ]
          },
          "metadata": {},
          "execution_count": 47
        }
      ]
    },
    {
      "cell_type": "markdown",
      "source": [
        "# Linear Regression"
      ],
      "metadata": {
        "id": "AUXuN1Htwsbb"
      }
    },
    {
      "cell_type": "markdown",
      "source": [
        "Tuto : create a model that predicts crop yields for apples and oranges (the targets variables) by looking the average temperature, rainfall and humidity (input variables)"
      ],
      "metadata": {
        "id": "KNkHrtZBxaUf"
      }
    },
    {
      "cell_type": "markdown",
      "source": [
        "Linear regression model : weights w, input variables and bias :\n",
        "\n",
        "yield_apple  = w11 * temp + w12 * rainfall + w13 * humidity + b1\n",
        "\n",
        "yield_orange = w21 * temp + w22 * rainfall + w23 * humidity + b2"
      ],
      "metadata": {
        "id": "8lPjdnAHxr_3"
      }
    },
    {
      "cell_type": "code",
      "source": [
        "# Input (temp, rainfall, humidity)\n",
        "inputs = np.array([[73, 67, 43], \n",
        "                   [91, 88, 64], \n",
        "                   [87, 134, 58], \n",
        "                   [102, 43, 37], \n",
        "                   [69, 96, 70]], dtype='float32')"
      ],
      "metadata": {
        "id": "tEwg6EImu7TB"
      },
      "execution_count": 48,
      "outputs": []
    },
    {
      "cell_type": "code",
      "source": [
        "# Targets (apples, oranges)\n",
        "targets = np.array([[56, 70], \n",
        "                    [81, 101], \n",
        "                    [119, 133], \n",
        "                    [22, 37], \n",
        "                    [103, 119]], dtype='float32')"
      ],
      "metadata": {
        "id": "Xh_uFS5Nu7Oh"
      },
      "execution_count": 49,
      "outputs": []
    },
    {
      "cell_type": "markdown",
      "source": [
        "We've separated the input and target variables because we'll operate on them separately. Also, we've created numpy arrays, because this is typically how you would work with training data: read some CSV files as numpy arrays, do some processing, and then convert them to PyTorch tensors.\n",
        "\n",
        "Let's convert the arrays to PyTorch tensors."
      ],
      "metadata": {
        "id": "uzFuNemGxQ0q"
      }
    },
    {
      "cell_type": "code",
      "source": [
        "# Convert inputs and targets to tensors\n",
        "inputs = torch.from_numpy(inputs)\n",
        "targets = torch.from_numpy(targets)\n",
        "print(inputs)\n",
        "print(targets)"
      ],
      "metadata": {
        "colab": {
          "base_uri": "https://localhost:8080/"
        },
        "id": "AGrJ0tbDu7Ku",
        "outputId": "8558a103-3857-484a-d777-6397c51b7edf"
      },
      "execution_count": 50,
      "outputs": [
        {
          "output_type": "stream",
          "name": "stdout",
          "text": [
            "tensor([[ 73.,  67.,  43.],\n",
            "        [ 91.,  88.,  64.],\n",
            "        [ 87., 134.,  58.],\n",
            "        [102.,  43.,  37.],\n",
            "        [ 69.,  96.,  70.]])\n",
            "tensor([[ 56.,  70.],\n",
            "        [ 81., 101.],\n",
            "        [119., 133.],\n",
            "        [ 22.,  37.],\n",
            "        [103., 119.]])\n"
          ]
        }
      ]
    },
    {
      "cell_type": "markdown",
      "source": [
        "## Linear regression model from scratch"
      ],
      "metadata": {
        "id": "_BJyZb97yVxI"
      }
    },
    {
      "cell_type": "markdown",
      "source": [
        "Weights and biases can be represented as matrices, initialized as random values.\n",
        "\n",
        "First row of w and first element of b are used to predict the first target i.e yield of apples."
      ],
      "metadata": {
        "id": "58b_C9qHyav-"
      }
    },
    {
      "cell_type": "code",
      "source": [
        "# torch.randn create tensor with given shape from Normal distribution N(0,1)"
      ],
      "metadata": {
        "id": "E1MeAtTMy0h-"
      },
      "execution_count": 52,
      "outputs": []
    },
    {
      "cell_type": "code",
      "source": [
        "# Weights and biases\n",
        "w = torch.randn(2, 3, requires_grad=True)\n",
        "b = torch.randn(2, requires_grad=True)\n",
        "print(w)\n",
        "print(b)"
      ],
      "metadata": {
        "colab": {
          "base_uri": "https://localhost:8080/"
        },
        "id": "Ndgn5riau7Fx",
        "outputId": "5dcb426c-b2a9-41db-83e2-37124e3e176f"
      },
      "execution_count": 51,
      "outputs": [
        {
          "output_type": "stream",
          "name": "stdout",
          "text": [
            "tensor([[ 0.1763,  0.2920, -0.6731],\n",
            "        [-1.2771, -0.0233,  0.7905]], requires_grad=True)\n",
            "tensor([-0.1811, -0.6536], requires_grad=True)\n"
          ]
        }
      ]
    },
    {
      "cell_type": "markdown",
      "source": [
        "We have : Inputs(5x3) * tr'Weights(3x2) + bias(5x2)"
      ],
      "metadata": {
        "id": "FyvE5hS8zDhj"
      }
    },
    {
      "cell_type": "code",
      "source": [
        "# .t() to get the transposee\n",
        "print(w.t())\n",
        "\n",
        "# @ represents matrix multiplication\n",
        "print(inputs @ w.t())"
      ],
      "metadata": {
        "colab": {
          "base_uri": "https://localhost:8080/"
        },
        "id": "xp8liFDSzgrw",
        "outputId": "e0521978-018e-4694-aef1-51b92081a6d6"
      },
      "execution_count": 57,
      "outputs": [
        {
          "output_type": "stream",
          "name": "stdout",
          "text": [
            "tensor([[ 0.1763, -1.2771],\n",
            "        [ 0.2920, -0.0233],\n",
            "        [-0.6731,  0.7905]], grad_fn=<TBackward0>)\n",
            "tensor([[   3.4943,  -60.7961],\n",
            "        [  -1.3344,  -67.6722],\n",
            "        [  15.4310,  -68.3784],\n",
            "        [   5.6387, -102.0153],\n",
            "        [  -6.9164,  -35.0198]], grad_fn=<MmBackward0>)\n"
          ]
        }
      ]
    },
    {
      "cell_type": "code",
      "source": [
        "def model(x):\n",
        "  return x @ w.t() + b"
      ],
      "metadata": {
        "id": "FE5YhrtYu7Av"
      },
      "execution_count": 58,
      "outputs": []
    },
    {
      "cell_type": "code",
      "source": [
        "# Generate predictions\n",
        "preds = model(inputs)\n",
        "print(preds)"
      ],
      "metadata": {
        "colab": {
          "base_uri": "https://localhost:8080/"
        },
        "id": "iDBU7ioqu6-G",
        "outputId": "45b6e223-6f0c-45e1-a07b-a0df644db5fe"
      },
      "execution_count": 59,
      "outputs": [
        {
          "output_type": "stream",
          "name": "stdout",
          "text": [
            "tensor([[   3.3132,  -61.4496],\n",
            "        [  -1.5155,  -68.3257],\n",
            "        [  15.2499,  -69.0320],\n",
            "        [   5.4575, -102.6689],\n",
            "        [  -7.0975,  -35.6733]], grad_fn=<AddBackward0>)\n"
          ]
        }
      ]
    },
    {
      "cell_type": "code",
      "source": [
        "# Compare with targets\n",
        "print(targets)"
      ],
      "metadata": {
        "colab": {
          "base_uri": "https://localhost:8080/"
        },
        "id": "vp2cI4g0u67e",
        "outputId": "56f6846c-2f64-4f71-b4a7-885b0f32377c"
      },
      "execution_count": 60,
      "outputs": [
        {
          "output_type": "stream",
          "name": "stdout",
          "text": [
            "tensor([[ 56.,  70.],\n",
            "        [ 81., 101.],\n",
            "        [119., 133.],\n",
            "        [ 22.,  37.],\n",
            "        [103., 119.]])\n"
          ]
        }
      ]
    },
    {
      "cell_type": "markdown",
      "source": [
        "## Loss function"
      ],
      "metadata": {
        "id": "D5-CTmg20SDJ"
      }
    },
    {
      "cell_type": "markdown",
      "source": [
        "Evaluate how well model is performing. We can compare model's prediction with the actual targets using the methods: \n",
        "\n",
        "calculate the diff between preds and targets\n",
        "\n",
        "square all elements of the diff matrix to remove negative values\n",
        "\n",
        "calculate the average of the elements in the resulting matrix"
      ],
      "metadata": {
        "id": "XXCnVavl0VvO"
      }
    },
    {
      "cell_type": "code",
      "source": [
        "#MSE Loss\n",
        "def mse(t1, t2):\n",
        "  diff = t1 - t2\n",
        "  return torch.sum(diff * diff) / diff.numel()\n",
        "# .numel returns number of elements in a tensor"
      ],
      "metadata": {
        "id": "UkalVSgnu64p"
      },
      "execution_count": 66,
      "outputs": []
    },
    {
      "cell_type": "code",
      "source": [
        "# Compute loss\n",
        "loss = mse(preds, targets)\n",
        "print(loss)"
      ],
      "metadata": {
        "colab": {
          "base_uri": "https://localhost:8080/"
        },
        "id": "iF1cBSydu61h",
        "outputId": "16ec348c-e2c0-45e3-81f8-570b8567d252"
      },
      "execution_count": 67,
      "outputs": [
        {
          "output_type": "stream",
          "name": "stdout",
          "text": [
            "tensor(16294.2266, grad_fn=<DivBackward0>)\n"
          ]
        }
      ]
    },
    {
      "cell_type": "code",
      "source": [
        ""
      ],
      "metadata": {
        "id": "YPd7s0fYu6vj"
      },
      "execution_count": null,
      "outputs": []
    },
    {
      "cell_type": "code",
      "source": [
        "# Compute gradients\n",
        "loss.backward()"
      ],
      "metadata": {
        "id": "6DTSk05Gu6s6"
      },
      "execution_count": 71,
      "outputs": []
    },
    {
      "cell_type": "code",
      "source": [
        "# Gradients for weights\n",
        "print(w) # w_{1,1}, w_{1,2}, ...\n",
        "print(w.grad) # {1,1} corresponds to Derivate(Loss) w.r.t (w_{1,1})"
      ],
      "metadata": {
        "colab": {
          "base_uri": "https://localhost:8080/"
        },
        "id": "p0xfUq7a2n02",
        "outputId": "854b8a6b-e593-4982-f12f-e9812eb823e9"
      },
      "execution_count": 72,
      "outputs": [
        {
          "output_type": "stream",
          "name": "stdout",
          "text": [
            "tensor([[ 0.1763,  0.2920, -0.6731],\n",
            "        [-1.2771, -0.0233,  0.7905]], requires_grad=True)\n",
            "tensor([[ -5933.0732,  -7194.9160,  -4376.5859],\n",
            "        [-13499.9863, -14326.8965,  -8840.3838]])\n"
          ]
        }
      ]
    },
    {
      "cell_type": "markdown",
      "source": [
        "Adjust weights and biases to reduce the loss"
      ],
      "metadata": {
        "id": "DNNi3BEQ38YE"
      }
    },
    {
      "cell_type": "markdown",
      "source": [
        "Loss is a quadratic function of our weights and biases. Objective is to find the set of weights where the loss is the lowest. \n",
        "\n",
        "If a gradient element is positive:\n",
        "\n",
        "increasing the weights element's value slightly will increase the loss\n",
        "\n",
        "decreasing the weight elements value slightly will decrease the loss\n",
        "\n",
        "\n",
        "If a gradient element is negative:\n",
        "\n",
        "increasing the weights element's value slightly will decrease the loss\n",
        "\n",
        "decreasing the weight elements value slightly will increase the loss\n"
      ],
      "metadata": {
        "id": "OPi_QJFs3_NN"
      }
    },
    {
      "cell_type": "code",
      "source": [
        "w\n",
        "w.grad"
      ],
      "metadata": {
        "colab": {
          "base_uri": "https://localhost:8080/"
        },
        "id": "mzMZ96nm2nxy",
        "outputId": "724fabbe-d9d4-4b97-9480-3f84a75ebeb1"
      },
      "execution_count": 73,
      "outputs": [
        {
          "output_type": "execute_result",
          "data": {
            "text/plain": [
              "tensor([[ -5933.0732,  -7194.9160,  -4376.5859],\n",
              "        [-13499.9863, -14326.8965,  -8840.3838]])"
            ]
          },
          "metadata": {},
          "execution_count": 73
        }
      ]
    },
    {
      "cell_type": "code",
      "source": [
        "# torch.no_grad do not track, calculate, modify gradients while updating \n",
        "#               weights and biases\n",
        "with torch.no_grad():\n",
        "  w -= w.grad * 1e-5\n",
        "  b -= b.grad * 1e-5\n",
        "# Here 1e-5 is called learning rate"
      ],
      "metadata": {
        "id": "OsMWHAsr2nvI"
      },
      "execution_count": 74,
      "outputs": []
    },
    {
      "cell_type": "code",
      "source": [
        "# Let's verify that the loss is actually lower\n",
        "loss = mse(preds, targets)\n",
        "print(loss)"
      ],
      "metadata": {
        "colab": {
          "base_uri": "https://localhost:8080/"
        },
        "id": "6JLzxGCO2nsj",
        "outputId": "1a3e4abb-9e1c-47ca-c321-6ef41ebb8ec6"
      },
      "execution_count": 75,
      "outputs": [
        {
          "output_type": "stream",
          "name": "stdout",
          "text": [
            "tensor(16294.2266, grad_fn=<DivBackward0>)\n"
          ]
        }
      ]
    },
    {
      "cell_type": "markdown",
      "source": [
        "Before we proceed, we reset the gradients to zero by invoking the .zero_() method. We need to do this because PyTorch accumulates gradients. Otherwise, the next time we invoke .backward on the loss, the new gradient values are added to the existing gradients, which may lead to unexpected results."
      ],
      "metadata": {
        "id": "TPu3nOK_5tea"
      }
    },
    {
      "cell_type": "code",
      "source": [
        "w.grad.zero_()\n",
        "b.grad.zero_()\n",
        "print(w.grad)\n",
        "print(b.grad)"
      ],
      "metadata": {
        "colab": {
          "base_uri": "https://localhost:8080/"
        },
        "id": "xx7-B6LU2nqI",
        "outputId": "4b30b27b-b6e2-48df-b9ed-c6ffa8c4a7f6"
      },
      "execution_count": 76,
      "outputs": [
        {
          "output_type": "stream",
          "name": "stdout",
          "text": [
            "tensor([[0., 0., 0.],\n",
            "        [0., 0., 0.]])\n",
            "tensor([0., 0.])\n"
          ]
        }
      ]
    },
    {
      "cell_type": "markdown",
      "source": [
        "## Train the model using gradient descent"
      ],
      "metadata": {
        "id": "-6WBdSb55tYJ"
      }
    },
    {
      "cell_type": "markdown",
      "source": [
        "Improve the loss -> use gradient descent optimization algorithm.\n",
        "\n",
        "Train the model -> Generate predictions, Calculate the loss, Compute gradients wrt weights and biases, Adjust the weights by substracting a small quantity proportional to the gradient, Reset Gradients to Zero"
      ],
      "metadata": {
        "id": "joWXKhgk5tT1"
      }
    },
    {
      "cell_type": "code",
      "source": [
        "# Generate predictions\n",
        "preds = model(inputs)\n",
        "print(preds)"
      ],
      "metadata": {
        "colab": {
          "base_uri": "https://localhost:8080/"
        },
        "id": "auZZSsDI2nnT",
        "outputId": "a549e3e4-e43a-4572-ee68-d622e365b5b0"
      },
      "execution_count": 77,
      "outputs": [
        {
          "output_type": "stream",
          "name": "stdout",
          "text": [
            "tensor([[ 14.3476, -38.1926],\n",
            "        [ 13.0169, -37.7736],\n",
            "        [ 32.5920, -32.9599],\n",
            "        [ 16.2232, -79.4658],\n",
            "        [  6.9678,  -6.4147]], grad_fn=<AddBackward0>)\n"
          ]
        }
      ]
    },
    {
      "cell_type": "code",
      "source": [
        "# Calculate the loss\n",
        "loss = mse(preds, targets)\n",
        "print(loss)"
      ],
      "metadata": {
        "colab": {
          "base_uri": "https://localhost:8080/"
        },
        "id": "fyUtUZS82nkb",
        "outputId": "dc5bbb5a-036f-447b-d2c3-9d4e1eed67bf"
      },
      "execution_count": 78,
      "outputs": [
        {
          "output_type": "stream",
          "name": "stdout",
          "text": [
            "tensor(11087.8125, grad_fn=<DivBackward0>)\n"
          ]
        }
      ]
    },
    {
      "cell_type": "code",
      "source": [
        "# Compute gradients\n",
        "loss.backward()\n",
        "print(w.grad)\n",
        "print(b.grad)"
      ],
      "metadata": {
        "colab": {
          "base_uri": "https://localhost:8080/"
        },
        "id": "WQ1zaqNV2nhl",
        "outputId": "25fa72f1-774f-43ca-bda9-87dabc1f8f38"
      },
      "execution_count": 79,
      "outputs": [
        {
          "output_type": "stream",
          "name": "stdout",
          "text": [
            "tensor([[ -4792.0098,  -5963.8794,  -3617.9272],\n",
            "        [-11099.6211, -11749.4912,  -7249.5464]])\n",
            "tensor([ -59.5705, -130.9613])\n"
          ]
        }
      ]
    },
    {
      "cell_type": "code",
      "source": [
        "# Adjust weights & reset gradients\n",
        "with torch.no_grad():\n",
        "    w -= w.grad * 1e-5\n",
        "    b -= b.grad * 1e-5\n",
        "    w.grad.zero_()\n",
        "    b.grad.zero_()"
      ],
      "metadata": {
        "id": "MqxV9wQA2neH"
      },
      "execution_count": 80,
      "outputs": []
    },
    {
      "cell_type": "code",
      "source": [
        "print(w)\n",
        "print(b)"
      ],
      "metadata": {
        "colab": {
          "base_uri": "https://localhost:8080/"
        },
        "id": "qz-aWdxR2nbq",
        "outputId": "ed349090-cb16-4f9b-fa6e-517dd32226b5"
      },
      "execution_count": 81,
      "outputs": [
        {
          "output_type": "stream",
          "name": "stdout",
          "text": [
            "tensor([[ 0.2836,  0.4236, -0.5931],\n",
            "        [-1.0311,  0.2375,  0.9514]], requires_grad=True)\n",
            "tensor([-0.1798, -0.6507], requires_grad=True)\n"
          ]
        }
      ]
    },
    {
      "cell_type": "code",
      "source": [
        "# Calculate loss\n",
        "preds = model(inputs)\n",
        "loss = mse(preds, targets)\n",
        "print(loss)"
      ],
      "metadata": {
        "colab": {
          "base_uri": "https://localhost:8080/"
        },
        "id": "X9MIsg3w2nQH",
        "outputId": "3b29bcdf-d959-4acd-d8a9-a6d1eabe5115"
      },
      "execution_count": 82,
      "outputs": [
        {
          "output_type": "stream",
          "name": "stdout",
          "text": [
            "tensor(7578.1748, grad_fn=<DivBackward0>)\n"
          ]
        }
      ]
    },
    {
      "cell_type": "markdown",
      "source": [
        "## Train for multiple epochs"
      ],
      "metadata": {
        "id": "Jxdz-9NQ9tkz"
      }
    },
    {
      "cell_type": "code",
      "source": [
        "# Train for 100 epochs\n",
        "for i in range(100):\n",
        "    preds = model(inputs)\n",
        "    loss = mse(preds, targets)\n",
        "    loss.backward()\n",
        "    with torch.no_grad():\n",
        "        w -= w.grad * 1e-5\n",
        "        b -= b.grad * 1e-5\n",
        "        w.grad.zero_()\n",
        "        b.grad.zero_()"
      ],
      "metadata": {
        "id": "hU2PXmN-9tIN"
      },
      "execution_count": 83,
      "outputs": []
    },
    {
      "cell_type": "code",
      "source": [
        "# Calculate loss\n",
        "preds = model(inputs)\n",
        "loss = mse(preds, targets)\n",
        "print(loss)"
      ],
      "metadata": {
        "colab": {
          "base_uri": "https://localhost:8080/"
        },
        "id": "HTBvkR8L9tFc",
        "outputId": "4f92b897-a0f8-4911-8c19-476384337d1a"
      },
      "execution_count": 84,
      "outputs": [
        {
          "output_type": "stream",
          "name": "stdout",
          "text": [
            "tensor(132.2703, grad_fn=<DivBackward0>)\n"
          ]
        }
      ]
    },
    {
      "cell_type": "code",
      "source": [
        "# Predictions\n",
        "preds"
      ],
      "metadata": {
        "colab": {
          "base_uri": "https://localhost:8080/"
        },
        "id": "PMZ9bSgf9tCq",
        "outputId": "03b01efe-0a9b-4a6e-f6c1-2cf9c9e00de5"
      },
      "execution_count": 85,
      "outputs": [
        {
          "output_type": "execute_result",
          "data": {
            "text/plain": [
              "tensor([[ 61.7084,  69.1113],\n",
              "        [ 77.8832, 102.5583],\n",
              "        [121.2220, 130.5878],\n",
              "        [ 46.9167,  30.9522],\n",
              "        [ 79.2868, 125.8337]], grad_fn=<AddBackward0>)"
            ]
          },
          "metadata": {},
          "execution_count": 85
        }
      ]
    },
    {
      "cell_type": "code",
      "source": [
        "# Targets\n",
        "targets"
      ],
      "metadata": {
        "colab": {
          "base_uri": "https://localhost:8080/"
        },
        "id": "q5kDcQs79s_x",
        "outputId": "04b1b71b-d516-4325-aec4-5aab86f04def"
      },
      "execution_count": 86,
      "outputs": [
        {
          "output_type": "execute_result",
          "data": {
            "text/plain": [
              "tensor([[ 56.,  70.],\n",
              "        [ 81., 101.],\n",
              "        [119., 133.],\n",
              "        [ 22.,  37.],\n",
              "        [103., 119.]])"
            ]
          },
          "metadata": {},
          "execution_count": 86
        }
      ]
    },
    {
      "cell_type": "code",
      "source": [
        ""
      ],
      "metadata": {
        "id": "5PgIvSFN9s8j"
      },
      "execution_count": null,
      "outputs": []
    },
    {
      "cell_type": "code",
      "source": [
        ""
      ],
      "metadata": {
        "id": "IKHov5sg9s5G"
      },
      "execution_count": null,
      "outputs": []
    },
    {
      "cell_type": "code",
      "source": [
        ""
      ],
      "metadata": {
        "id": "UeshKcX_9s0p"
      },
      "execution_count": null,
      "outputs": []
    },
    {
      "cell_type": "code",
      "source": [
        ""
      ],
      "metadata": {
        "id": "Wl4Gr6xj9sxM"
      },
      "execution_count": null,
      "outputs": []
    }
  ]
}