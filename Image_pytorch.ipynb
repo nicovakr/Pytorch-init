{
  "nbformat": 4,
  "nbformat_minor": 0,
  "metadata": {
    "colab": {
      "name": "Image_pytorch.ipynb",
      "provenance": [],
      "collapsed_sections": [],
      "authorship_tag": "ABX9TyPCljujdC6I2fUImKNLUZ6l",
      "include_colab_link": true
    },
    "kernelspec": {
      "name": "python3",
      "display_name": "Python 3"
    },
    "language_info": {
      "name": "python"
    }
  },
  "cells": [
    {
      "cell_type": "markdown",
      "metadata": {
        "id": "view-in-github",
        "colab_type": "text"
      },
      "source": [
        "<a href=\"https://colab.research.google.com/github/nicovakr/Pytorch-init/blob/master/Image_pytorch.ipynb\" target=\"_parent\"><img src=\"https://colab.research.google.com/assets/colab-badge.svg\" alt=\"Open In Colab\"/></a>"
      ]
    },
    {
      "cell_type": "markdown",
      "source": [
        "# Image & Logistic Regression \n",
        "\n"
      ],
      "metadata": {
        "id": "2Z6E_gCqcPGE"
      }
    },
    {
      "cell_type": "code",
      "execution_count": 108,
      "metadata": {
        "id": "0_Jb4Cy5ZyXy"
      },
      "outputs": [],
      "source": [
        "import numpy\n",
        "import matplotlib\n",
        "import torch\n",
        "import torchvision\n",
        "import torchaudio"
      ]
    },
    {
      "cell_type": "code",
      "source": [
        " from torchvision.datasets import MNIST"
      ],
      "metadata": {
        "id": "HoGkY01Wbe9z"
      },
      "execution_count": 109,
      "outputs": []
    },
    {
      "cell_type": "code",
      "source": [
        "dataset = MNIST(root='data/', download=True)"
      ],
      "metadata": {
        "id": "lO7n3n6qbfBG"
      },
      "execution_count": 110,
      "outputs": []
    },
    {
      "cell_type": "code",
      "source": [
        "# 60,000 images to train the model\n",
        "len(dataset)"
      ],
      "metadata": {
        "colab": {
          "base_uri": "https://localhost:8080/"
        },
        "id": "pnnPm5ufbfFw",
        "outputId": "d55c4935-f0f6-4b79-e6f5-e514e6a34d27"
      },
      "execution_count": 111,
      "outputs": [
        {
          "output_type": "execute_result",
          "data": {
            "text/plain": [
              "60000"
            ]
          },
          "metadata": {},
          "execution_count": 111
        }
      ]
    },
    {
      "cell_type": "code",
      "source": [
        "test_dataset = MNIST(root='data/', train=False)\n",
        "len(test_dataset)"
      ],
      "metadata": {
        "colab": {
          "base_uri": "https://localhost:8080/"
        },
        "id": "pxUj-nCvbfIt",
        "outputId": "a0834f9b-b107-4c5a-d292-31b552ebabd0"
      },
      "execution_count": 112,
      "outputs": [
        {
          "output_type": "execute_result",
          "data": {
            "text/plain": [
              "10000"
            ]
          },
          "metadata": {},
          "execution_count": 112
        }
      ]
    },
    {
      "cell_type": "code",
      "source": [
        "# an element from the training dataset\n",
        "# a 28x28 image and a label\n",
        "dataset[0]"
      ],
      "metadata": {
        "colab": {
          "base_uri": "https://localhost:8080/"
        },
        "id": "z4EMwlebbfLR",
        "outputId": "93592d5b-50a4-437c-c291-f6e7243881fa"
      },
      "execution_count": 113,
      "outputs": [
        {
          "output_type": "execute_result",
          "data": {
            "text/plain": [
              "(<PIL.Image.Image image mode=L size=28x28 at 0x7FE9196832D0>, 5)"
            ]
          },
          "metadata": {},
          "execution_count": 113
        }
      ]
    },
    {
      "cell_type": "code",
      "source": [
        "import matplotlib.pyplot as plt\n",
        "# indicate to jupyter that we want to plot the graphs within the notebook\n",
        "# without the following line jupyter plot graphs in a popup\n",
        "%matplotlib inline"
      ],
      "metadata": {
        "id": "cNbGr34obfPH"
      },
      "execution_count": 114,
      "outputs": []
    },
    {
      "cell_type": "markdown",
      "source": [
        "Others magic functions :\n",
        "\n",
        "https://ipython.readthedocs.io/en/stable/interactive/magics.html ."
      ],
      "metadata": {
        "id": "FPfMdQ-IdXdX"
      }
    },
    {
      "cell_type": "code",
      "source": [
        "image, label = dataset[0]\n",
        "plt.imshow(image, cmap='gray')\n",
        "print('Label:', label)"
      ],
      "metadata": {
        "colab": {
          "base_uri": "https://localhost:8080/",
          "height": 282
        },
        "id": "LLw8rJM4bfs5",
        "outputId": "6741c522-6493-4a54-fc0d-bd937cba930f"
      },
      "execution_count": 115,
      "outputs": [
        {
          "output_type": "stream",
          "name": "stdout",
          "text": [
            "Label: 5\n"
          ]
        },
        {
          "output_type": "display_data",
          "data": {
            "image/png": "[encoded data removed]",
            "text/plain": [
              "<Figure size 432x288 with 1 Axes>"
            ]
          },
          "metadata": {
            "needs_background": "light"
          }
        }
      ]
    },
    {
      "cell_type": "code",
      "source": [
        "image, label = dataset[10]\n",
        "plt.imshow(image, cmap='gray')\n",
        "print('Label:', label)"
      ],
      "metadata": {
        "colab": {
          "base_uri": "https://localhost:8080/",
          "height": 282
        },
        "id": "ua9oyuLubfwA",
        "outputId": "69c6e0ef-cfae-4a31-fccc-85d0fad01371"
      },
      "execution_count": 116,
      "outputs": [
        {
          "output_type": "stream",
          "name": "stdout",
          "text": [
            "Label: 3\n"
          ]
        },
        {
          "output_type": "display_data",
          "data": {
            "image/png": "[encoded data removed]",
            "text/plain": [
              "<Figure size 432x288 with 1 Axes>"
            ]
          },
          "metadata": {
            "needs_background": "light"
          }
        }
      ]
    },
    {
      "cell_type": "code",
      "source": [
        "# to convert images into tensors\n",
        "import torchvision.transforms as transforms"
      ],
      "metadata": {
        "id": "Lc0VeJnxbgUs"
      },
      "execution_count": 117,
      "outputs": []
    },
    {
      "cell_type": "code",
      "source": [
        "# convert with the function 'ToTensor'\n",
        "dataset = MNIST(root='data/', train=True, transform=transforms.ToTensor())"
      ],
      "metadata": {
        "id": "V6z0-4iubglO"
      },
      "execution_count": 118,
      "outputs": []
    },
    {
      "cell_type": "code",
      "source": [
        "img_tensor, label = dataset[0]\n",
        "print(img_tensor.shape, label)\n",
        "# first dimension tracks color channels\n",
        "# second and third dimensions represent pixels along height and width"
      ],
      "metadata": {
        "colab": {
          "base_uri": "https://localhost:8080/"
        },
        "id": "aqILTygAfwnK",
        "outputId": "e201fd3b-7605-4e06-c718-ec6621b3a3b8"
      },
      "execution_count": 119,
      "outputs": [
        {
          "output_type": "stream",
          "name": "stdout",
          "text": [
            "torch.Size([1, 28, 28]) 5\n"
          ]
        }
      ]
    },
    {
      "cell_type": "code",
      "source": [
        "print(img_tensor[0, 10:15, 10:15])\n",
        "print(torch.max(img_tensor), torch.min(img_tensor))\n",
        "# 0 represents black\n",
        "# 1 represents white"
      ],
      "metadata": {
        "colab": {
          "base_uri": "https://localhost:8080/"
        },
        "id": "FIjLcHaNgDYh",
        "outputId": "453c1608-ef2e-463d-815b-0e6f91c9f833"
      },
      "execution_count": 120,
      "outputs": [
        {
          "output_type": "stream",
          "name": "stdout",
          "text": [
            "tensor([[0.0039, 0.6039, 0.9922, 0.3529, 0.0000],\n",
            "        [0.0000, 0.5451, 0.9922, 0.7451, 0.0078],\n",
            "        [0.0000, 0.0431, 0.7451, 0.9922, 0.2745],\n",
            "        [0.0000, 0.0000, 0.1373, 0.9451, 0.8824],\n",
            "        [0.0000, 0.0000, 0.0000, 0.3176, 0.9412]])\n",
            "tensor(1.) tensor(0.)\n"
          ]
        }
      ]
    },
    {
      "cell_type": "code",
      "source": [
        "plt.imshow(img_tensor[0, 10:15, 10:15], cmap='gray')"
      ],
      "metadata": {
        "colab": {
          "base_uri": "https://localhost:8080/",
          "height": 282
        },
        "id": "RtXg0jewgHvf",
        "outputId": "f00d3e7f-3ceb-4154-d305-3a66553e6e8d"
      },
      "execution_count": 121,
      "outputs": [
        {
          "output_type": "execute_result",
          "data": {
            "text/plain": [
              "<matplotlib.image.AxesImage at 0x7fe919320e10>"
            ]
          },
          "metadata": {},
          "execution_count": 121
        },
        {
          "output_type": "display_data",
          "data": {
            "image/png": "[encoded data removed]",
            "text/plain": [
              "<Figure size 432x288 with 1 Axes>"
            ]
          },
          "metadata": {
            "needs_background": "light"
          }
        }
      ]
    },
    {
      "cell_type": "markdown",
      "source": [
        "## Training and Validation Datasets"
      ],
      "metadata": {
        "id": "lpCs-He2iijY"
      }
    },
    {
      "cell_type": "code",
      "source": [
        "from torch.utils.data import random_split"
      ],
      "metadata": {
        "id": "Ovt7s_U8gIf2"
      },
      "execution_count": 122,
      "outputs": []
    },
    {
      "cell_type": "code",
      "source": [
        "train_ds, val_ds = random_split(dataset, [50000, 10000])\n",
        "len(train_ds), len(val_ds)"
      ],
      "metadata": {
        "colab": {
          "base_uri": "https://localhost:8080/"
        },
        "id": "JvjZYZgziXtE",
        "outputId": "155610fc-34dd-4c14-deff-4e563c45abb4"
      },
      "execution_count": 123,
      "outputs": [
        {
          "output_type": "execute_result",
          "data": {
            "text/plain": [
              "(50000, 10000)"
            ]
          },
          "metadata": {},
          "execution_count": 123
        }
      ]
    },
    {
      "cell_type": "code",
      "source": [
        "from torch.utils.data import DataLoader"
      ],
      "metadata": {
        "id": "k19GHOhBgDcT"
      },
      "execution_count": 124,
      "outputs": []
    },
    {
      "cell_type": "code",
      "source": [
        "batch_size = 128\n",
        "\n",
        "train_loader = DataLoader(train_ds, batch_size, shuffle = True)\n",
        "val_loader = DataLoader(val_ds, batch_size)"
      ],
      "metadata": {
        "id": "gfM4iss_gDgN"
      },
      "execution_count": 125,
      "outputs": []
    },
    {
      "cell_type": "markdown",
      "source": [
        "# Model"
      ],
      "metadata": {
        "id": "8H_uLP3DjkRv"
      }
    },
    {
      "cell_type": "code",
      "source": [
        "import torch.nn as nn"
      ],
      "metadata": {
        "id": "Gc8sJZSvgDkR"
      },
      "execution_count": 126,
      "outputs": []
    },
    {
      "cell_type": "code",
      "source": [
        "input_size = 28*28\n",
        "num_classes = 10"
      ],
      "metadata": {
        "id": "B7jJDXIZfw40"
      },
      "execution_count": 127,
      "outputs": []
    },
    {
      "cell_type": "code",
      "source": [
        "# Logistic regression model\n",
        "model = nn.Linear(input_size, num_classes)"
      ],
      "metadata": {
        "id": "PUP8o7NWkLDU"
      },
      "execution_count": 128,
      "outputs": []
    },
    {
      "cell_type": "code",
      "source": [
        "print(model.weight.shape)\n",
        "model.weight"
      ],
      "metadata": {
        "colab": {
          "base_uri": "https://localhost:8080/"
        },
        "id": "QNsJt0XAkLGk",
        "outputId": "a00faf65-c643-4587-ae0c-56e7cf544174"
      },
      "execution_count": 129,
      "outputs": [
        {
          "output_type": "stream",
          "name": "stdout",
          "text": [
            "torch.Size([10, 784])\n"
          ]
        },
        {
          "output_type": "execute_result",
          "data": {
            "text/plain": [
              "Parameter containing:\n",
              "tensor([[-0.0113, -0.0057,  0.0082,  ..., -0.0239, -0.0339,  0.0182],\n",
              "        [-0.0283, -0.0350, -0.0017,  ...,  0.0335,  0.0203,  0.0349],\n",
              "        [-0.0282, -0.0047, -0.0266,  ...,  0.0140,  0.0216, -0.0109],\n",
              "        ...,\n",
              "        [-0.0299, -0.0045, -0.0188,  ...,  0.0304,  0.0039,  0.0084],\n",
              "        [ 0.0068, -0.0214,  0.0280,  ...,  0.0105, -0.0007, -0.0057],\n",
              "        [ 0.0026, -0.0033,  0.0315,  ..., -0.0204, -0.0320,  0.0131]],\n",
              "       requires_grad=True)"
            ]
          },
          "metadata": {},
          "execution_count": 129
        }
      ]
    },
    {
      "cell_type": "code",
      "source": [
        "print(model.bias.shape)\n",
        "model.bias"
      ],
      "metadata": {
        "colab": {
          "base_uri": "https://localhost:8080/"
        },
        "id": "MK3dgxQQkLP8",
        "outputId": "a8fdd2f4-6975-472c-f9ce-fb84a42332b1"
      },
      "execution_count": 130,
      "outputs": [
        {
          "output_type": "stream",
          "name": "stdout",
          "text": [
            "torch.Size([10])\n"
          ]
        },
        {
          "output_type": "execute_result",
          "data": {
            "text/plain": [
              "Parameter containing:\n",
              "tensor([ 0.0047, -0.0350,  0.0236,  0.0328,  0.0336,  0.0034,  0.0057,  0.0235,\n",
              "        -0.0204, -0.0211], requires_grad=True)"
            ]
          },
          "metadata": {},
          "execution_count": 130
        }
      ]
    },
    {
      "cell_type": "code",
      "source": [
        "#for images, labels in train_loader:\n",
        "#  print(labels)\n",
        "#  print(images.shape)\n",
        "#  outputs = model(images)\n",
        "#  print(outputs)\n",
        "#  break"
      ],
      "metadata": {
        "id": "UVHuYjwHkn7e"
      },
      "execution_count": 131,
      "outputs": []
    },
    {
      "cell_type": "code",
      "source": [
        "images.shape"
      ],
      "metadata": {
        "colab": {
          "base_uri": "https://localhost:8080/"
        },
        "id": "-zVnjGBfkoGQ",
        "outputId": "b194ea8f-ce9e-4915-d9dc-44493b15cbb9"
      },
      "execution_count": 132,
      "outputs": [
        {
          "output_type": "execute_result",
          "data": {
            "text/plain": [
              "torch.Size([128, 1, 28, 28])"
            ]
          },
          "metadata": {},
          "execution_count": 132
        }
      ]
    },
    {
      "cell_type": "code",
      "source": [
        "images.reshape(128, 784).shape"
      ],
      "metadata": {
        "colab": {
          "base_uri": "https://localhost:8080/"
        },
        "id": "sE8fEmErkoPL",
        "outputId": "b26ffc10-e02a-45cb-c0a7-9e000057bdcc"
      },
      "execution_count": 133,
      "outputs": [
        {
          "output_type": "execute_result",
          "data": {
            "text/plain": [
              "torch.Size([128, 784])"
            ]
          },
          "metadata": {},
          "execution_count": 133
        }
      ]
    },
    {
      "cell_type": "code",
      "source": [
        "class MnistModel(nn.Module):\n",
        "  def __init__(self):\n",
        "    # instantiate the weights and biases using nn.Linear\n",
        "    super().__init__()\n",
        "    self.linear = nn.Linear(input_size, num_classes)\n",
        "\n",
        "  def forward(self, xb):\n",
        "    \n",
        "    xb = xb.reshape(-1, 784) # (-1, 28*28) : indicates to pytorch we want a view\n",
        "                             # of xb tensor in 2D\n",
        "    out = self.linear(xb)\n",
        "    return out\n",
        "\n",
        "model = MnistModel()"
      ],
      "metadata": {
        "id": "nL8E-YuRkoTz"
      },
      "execution_count": 134,
      "outputs": []
    },
    {
      "cell_type": "code",
      "source": [
        "model.linear"
      ],
      "metadata": {
        "colab": {
          "base_uri": "https://localhost:8080/"
        },
        "id": "HKKgkTV5koWL",
        "outputId": "2ab28944-b36c-4b83-be96-964229663d53"
      },
      "execution_count": 135,
      "outputs": [
        {
          "output_type": "execute_result",
          "data": {
            "text/plain": [
              "Linear(in_features=784, out_features=10, bias=True)"
            ]
          },
          "metadata": {},
          "execution_count": 135
        }
      ]
    },
    {
      "cell_type": "code",
      "source": [
        "print(model.linear.weight.shape, model.linear.bias.shape)\n",
        "list(model.parameters())"
      ],
      "metadata": {
        "colab": {
          "base_uri": "https://localhost:8080/"
        },
        "id": "aZzUUCvDkoZw",
        "outputId": "fbb35ee2-b200-4015-f4cd-ef6fc6a5d5a6"
      },
      "execution_count": 136,
      "outputs": [
        {
          "output_type": "stream",
          "name": "stdout",
          "text": [
            "torch.Size([10, 784]) torch.Size([10])\n"
          ]
        },
        {
          "output_type": "execute_result",
          "data": {
            "text/plain": [
              "[Parameter containing:\n",
              " tensor([[ 0.0116,  0.0152,  0.0289,  ...,  0.0351,  0.0152, -0.0345],\n",
              "         [-0.0290,  0.0166,  0.0297,  ..., -0.0183,  0.0172, -0.0078],\n",
              "         [-0.0191,  0.0336,  0.0336,  ...,  0.0086,  0.0308,  0.0320],\n",
              "         ...,\n",
              "         [ 0.0132,  0.0310, -0.0068,  ...,  0.0202,  0.0180,  0.0060],\n",
              "         [-0.0310,  0.0221, -0.0214,  ...,  0.0115, -0.0143, -0.0162],\n",
              "         [ 0.0208,  0.0197, -0.0189,  ...,  0.0043, -0.0323, -0.0329]],\n",
              "        requires_grad=True), Parameter containing:\n",
              " tensor([-0.0060,  0.0066, -0.0223, -0.0210, -0.0332,  0.0022,  0.0243, -0.0312,\n",
              "         -0.0259,  0.0028], requires_grad=True)]"
            ]
          },
          "metadata": {},
          "execution_count": 136
        }
      ]
    },
    {
      "cell_type": "code",
      "source": [
        "for images, labels in train_loader:\n",
        "  print(images.shape)\n",
        "  outputs = model(images)\n",
        "  break\n",
        "\n",
        "print('outputs.shape : ', outputs.shape)\n",
        "print('Sample outputs :\\n', outputs[:2].data)"
      ],
      "metadata": {
        "colab": {
          "base_uri": "https://localhost:8080/"
        },
        "id": "sVg8XdcJkLTC",
        "outputId": "1cb95f3e-6fe8-4021-d5ac-bb538656e6a5"
      },
      "execution_count": 137,
      "outputs": [
        {
          "output_type": "stream",
          "name": "stdout",
          "text": [
            "torch.Size([128, 1, 28, 28])\n",
            "outputs.shape :  torch.Size([128, 10])\n",
            "Sample outputs :\n",
            " tensor([[ 0.3707,  0.0594, -0.0067, -0.3977, -0.1321, -0.1864,  0.0792, -0.1217,\n",
            "         -0.1410,  0.1518],\n",
            "        [ 0.0468,  0.1238,  0.1285, -0.0730,  0.2090, -0.1895, -0.2443,  0.2975,\n",
            "          0.1649,  0.1662]])\n"
          ]
        }
      ]
    },
    {
      "cell_type": "markdown",
      "source": [
        "## Soft Max function"
      ],
      "metadata": {
        "id": "Wb0pOpl0pGrV"
      }
    },
    {
      "cell_type": "markdown",
      "source": [
        "S(y_i) = exp(y_i) / sum{j}(exp(y_j))"
      ],
      "metadata": {
        "id": "ghvYMATMpJPn"
      }
    },
    {
      "cell_type": "code",
      "source": [
        "import torch.nn.functional as F"
      ],
      "metadata": {
        "id": "z0do79Dcbhgy"
      },
      "execution_count": 138,
      "outputs": []
    },
    {
      "cell_type": "code",
      "source": [
        "outputs[:2]"
      ],
      "metadata": {
        "colab": {
          "base_uri": "https://localhost:8080/"
        },
        "id": "eSfo8BZep5rS",
        "outputId": "13d06640-ffbd-49d8-c9a2-6398f6c02d79"
      },
      "execution_count": 139,
      "outputs": [
        {
          "output_type": "execute_result",
          "data": {
            "text/plain": [
              "tensor([[ 0.3707,  0.0594, -0.0067, -0.3977, -0.1321, -0.1864,  0.0792, -0.1217,\n",
              "         -0.1410,  0.1518],\n",
              "        [ 0.0468,  0.1238,  0.1285, -0.0730,  0.2090, -0.1895, -0.2443,  0.2975,\n",
              "          0.1649,  0.1662]], grad_fn=<SliceBackward0>)"
            ]
          },
          "metadata": {},
          "execution_count": 139
        }
      ]
    },
    {
      "cell_type": "code",
      "source": [
        "# apply softmax for each output row\n",
        "probs = F.softmax(outputs, dim = 1)\n",
        "\n",
        "# Look at sample probabilities\n",
        "print(\"Sample probabilities:\\n\", probs[:2].data)\n",
        "\n",
        "# Add up the probabilities of an output row\n",
        "# .item to get the value\n",
        "print(\"Sum: \", torch.sum(probs[0]).item())"
      ],
      "metadata": {
        "colab": {
          "base_uri": "https://localhost:8080/"
        },
        "id": "x_sg-q-Mp524",
        "outputId": "2483cd5b-8ae0-4681-9958-11a01e5ac670"
      },
      "execution_count": 140,
      "outputs": [
        {
          "output_type": "stream",
          "name": "stdout",
          "text": [
            "Sample probabilities:\n",
            " tensor([[0.1466, 0.1074, 0.1005, 0.0680, 0.0887, 0.0840, 0.1095, 0.0896, 0.0879,\n",
            "         0.1178],\n",
            "        [0.0971, 0.1048, 0.1053, 0.0861, 0.1142, 0.0766, 0.0725, 0.1247, 0.1092,\n",
            "         0.1094]])\n",
            "Sum:  1.0\n"
          ]
        }
      ]
    },
    {
      "cell_type": "code",
      "source": [
        "max_probs, preds = torch.max(probs, dim = 1)\n",
        "print(preds)\n",
        "print(max_probs)"
      ],
      "metadata": {
        "colab": {
          "base_uri": "https://localhost:8080/"
        },
        "id": "Tkh2t_lBp55h",
        "outputId": "f28fc06d-f66a-42b3-b305-901499af1ffd"
      },
      "execution_count": 141,
      "outputs": [
        {
          "output_type": "stream",
          "name": "stdout",
          "text": [
            "tensor([0, 7, 0, 1, 0, 0, 0, 5, 1, 0, 9, 1, 9, 0, 9, 9, 0, 7, 1, 9, 9, 9, 9, 9,\n",
            "        9, 0, 1, 0, 2, 9, 9, 0, 9, 0, 9, 0, 0, 0, 9, 0, 3, 9, 0, 0, 0, 9, 0, 9,\n",
            "        9, 0, 9, 9, 9, 1, 5, 5, 1, 0, 2, 9, 9, 0, 0, 9, 1, 1, 1, 1, 1, 0, 0, 0,\n",
            "        9, 9, 1, 9, 9, 9, 9, 0, 0, 1, 0, 4, 9, 9, 0, 9, 9, 0, 0, 9, 9, 9, 5, 0,\n",
            "        5, 9, 9, 0, 0, 0, 9, 7, 1, 9, 9, 1, 0, 1, 9, 1, 0, 0, 0, 9, 5, 1, 0, 4,\n",
            "        0, 0, 4, 0, 2, 9, 9, 0])\n",
            "tensor([0.1466, 0.1247, 0.1544, 0.1369, 0.1612, 0.1389, 0.1481, 0.1239, 0.1222,\n",
            "        0.1560, 0.1287, 0.1368, 0.1219, 0.1561, 0.1366, 0.1268, 0.1299, 0.1271,\n",
            "        0.1323, 0.1234, 0.1458, 0.1377, 0.1489, 0.1367, 0.1553, 0.1308, 0.1265,\n",
            "        0.1380, 0.1179, 0.1164, 0.1327, 0.1260, 0.1449, 0.1410, 0.1370, 0.1283,\n",
            "        0.1297, 0.1307, 0.1352, 0.1242, 0.1193, 0.1240, 0.1230, 0.1219, 0.1413,\n",
            "        0.1246, 0.1398, 0.1486, 0.1210, 0.1226, 0.1184, 0.1353, 0.1239, 0.1285,\n",
            "        0.1391, 0.1580, 0.1212, 0.1414, 0.1227, 0.1386, 0.1401, 0.1232, 0.1271,\n",
            "        0.1275, 0.1205, 0.1340, 0.1243, 0.1276, 0.1232, 0.1512, 0.1269, 0.1633,\n",
            "        0.1365, 0.1336, 0.1303, 0.1144, 0.1169, 0.1261, 0.1237, 0.1185, 0.1604,\n",
            "        0.1403, 0.1552, 0.1265, 0.1516, 0.1310, 0.1260, 0.1196, 0.1323, 0.1255,\n",
            "        0.1422, 0.1367, 0.1240, 0.1393, 0.1273, 0.1884, 0.1217, 0.1295, 0.1274,\n",
            "        0.1626, 0.1255, 0.1368, 0.1268, 0.1139, 0.1323, 0.1238, 0.1466, 0.1187,\n",
            "        0.1530, 0.1302, 0.1213, 0.1360, 0.1303, 0.1213, 0.1416, 0.1305, 0.1145,\n",
            "        0.1273, 0.1619, 0.1378, 0.1346, 0.1159, 0.1215, 0.1423, 0.1258, 0.1332,\n",
            "        0.1462, 0.1212], grad_fn=<MaxBackward0>)\n"
          ]
        }
      ]
    },
    {
      "cell_type": "code",
      "source": [
        ""
      ],
      "metadata": {
        "id": "8fbfSzQZvdjm"
      },
      "execution_count": 141,
      "outputs": []
    },
    {
      "cell_type": "code",
      "source": [
        "labels"
      ],
      "metadata": {
        "colab": {
          "base_uri": "https://localhost:8080/"
        },
        "id": "kXResBEPp58I",
        "outputId": "c1eeea86-d542-4dc8-e10c-a1b05ad91e96"
      },
      "execution_count": 142,
      "outputs": [
        {
          "output_type": "execute_result",
          "data": {
            "text/plain": [
              "tensor([5, 8, 3, 7, 0, 3, 0, 6, 7, 2, 5, 2, 9, 3, 5, 5, 7, 4, 6, 1, 2, 7, 8, 7,\n",
              "        1, 2, 2, 7, 4, 1, 8, 1, 8, 8, 2, 9, 8, 2, 2, 9, 9, 3, 9, 0, 0, 7, 6, 8,\n",
              "        1, 9, 9, 1, 8, 9, 6, 0, 9, 0, 5, 6, 2, 0, 4, 9, 9, 5, 9, 2, 3, 1, 7, 6,\n",
              "        5, 2, 7, 9, 1, 8, 2, 2, 0, 2, 2, 2, 6, 3, 8, 9, 1, 0, 1, 9, 4, 4, 4, 5,\n",
              "        7, 1, 9, 9, 7, 2, 1, 9, 7, 1, 6, 7, 5, 9, 1, 8, 3, 7, 3, 2, 7, 9, 6, 5,\n",
              "        7, 9, 5, 3, 9, 1, 2, 4])"
            ]
          },
          "metadata": {},
          "execution_count": 142
        }
      ]
    },
    {
      "cell_type": "markdown",
      "source": [
        "## Evaluation Metric and Loss Function"
      ],
      "metadata": {
        "id": "6QRrXpeArHaU"
      }
    },
    {
      "cell_type": "code",
      "source": [
        "outputs[:2]"
      ],
      "metadata": {
        "colab": {
          "base_uri": "https://localhost:8080/"
        },
        "id": "cUVaaIt3p5_G",
        "outputId": "b7eb72a5-449c-457a-82b8-758e80748fe9"
      },
      "execution_count": 143,
      "outputs": [
        {
          "output_type": "execute_result",
          "data": {
            "text/plain": [
              "tensor([[ 0.3707,  0.0594, -0.0067, -0.3977, -0.1321, -0.1864,  0.0792, -0.1217,\n",
              "         -0.1410,  0.1518],\n",
              "        [ 0.0468,  0.1238,  0.1285, -0.0730,  0.2090, -0.1895, -0.2443,  0.2975,\n",
              "          0.1649,  0.1662]], grad_fn=<SliceBackward0>)"
            ]
          },
          "metadata": {},
          "execution_count": 143
        }
      ]
    },
    {
      "cell_type": "code",
      "source": [
        "torch.sum(preds == labels)"
      ],
      "metadata": {
        "colab": {
          "base_uri": "https://localhost:8080/"
        },
        "id": "veawlF1Qp6Db",
        "outputId": "ef1a522c-24b2-4ed6-db1c-05c38ce5fd21"
      },
      "execution_count": 144,
      "outputs": [
        {
          "output_type": "execute_result",
          "data": {
            "text/plain": [
              "tensor(15)"
            ]
          },
          "metadata": {},
          "execution_count": 144
        }
      ]
    },
    {
      "cell_type": "code",
      "source": [
        "def accuracy(outputs, labels):\n",
        "  _, preds = torch.max(outputs, dim = 1)\n",
        "  return torch.tensor(torch.sum(preds == labels).item() / len(preds))"
      ],
      "metadata": {
        "id": "irFA1WZAp6Fy"
      },
      "execution_count": 145,
      "outputs": []
    },
    {
      "cell_type": "code",
      "source": [
        "accuracy(outputs, labels)"
      ],
      "metadata": {
        "colab": {
          "base_uri": "https://localhost:8080/"
        },
        "id": "cdSRFmNbp6Jw",
        "outputId": "6c4143ec-2b37-4865-a94b-4ad0e04c21af"
      },
      "execution_count": 146,
      "outputs": [
        {
          "output_type": "execute_result",
          "data": {
            "text/plain": [
              "tensor(0.1172)"
            ]
          },
          "metadata": {},
          "execution_count": 146
        }
      ]
    },
    {
      "cell_type": "code",
      "source": [
        "probs"
      ],
      "metadata": {
        "colab": {
          "base_uri": "https://localhost:8080/"
        },
        "id": "BsK5p_e8p6VS",
        "outputId": "1d4fc30b-6235-429f-996d-8714a3a21034"
      },
      "execution_count": 147,
      "outputs": [
        {
          "output_type": "execute_result",
          "data": {
            "text/plain": [
              "tensor([[0.1466, 0.1074, 0.1005,  ..., 0.0896, 0.0879, 0.1178],\n",
              "        [0.0971, 0.1048, 0.1053,  ..., 0.1247, 0.1092, 0.1094],\n",
              "        [0.1544, 0.1164, 0.0900,  ..., 0.0779, 0.0851, 0.1209],\n",
              "        ...,\n",
              "        [0.1115, 0.1036, 0.0894,  ..., 0.1062, 0.0941, 0.1332],\n",
              "        [0.1369, 0.0884, 0.0851,  ..., 0.0815, 0.1027, 0.1462],\n",
              "        [0.1212, 0.0844, 0.0937,  ..., 0.1028, 0.0880, 0.1182]],\n",
              "       grad_fn=<SoftmaxBackward0>)"
            ]
          },
          "metadata": {},
          "execution_count": 147
        }
      ]
    },
    {
      "cell_type": "code",
      "source": [
        "outputs"
      ],
      "metadata": {
        "colab": {
          "base_uri": "https://localhost:8080/"
        },
        "id": "BFREyV11sDw_",
        "outputId": "8a41963c-be98-4adc-a0bb-160e77595d3c"
      },
      "execution_count": 148,
      "outputs": [
        {
          "output_type": "execute_result",
          "data": {
            "text/plain": [
              "tensor([[ 0.3707,  0.0594, -0.0067,  ..., -0.1217, -0.1410,  0.1518],\n",
              "        [ 0.0468,  0.1238,  0.1285,  ...,  0.2975,  0.1649,  0.1662],\n",
              "        [ 0.5660,  0.2838,  0.0264,  ..., -0.1175, -0.0291,  0.3218],\n",
              "        ...,\n",
              "        [ 0.1410,  0.0673, -0.0803,  ...,  0.0927, -0.0290,  0.3190],\n",
              "        [ 0.3355, -0.1018, -0.1395,  ..., -0.1831,  0.0477,  0.4013],\n",
              "        [ 0.2552, -0.1067, -0.0018,  ...,  0.0911, -0.0642,  0.2305]],\n",
              "       grad_fn=<AddmmBackward0>)"
            ]
          },
          "metadata": {},
          "execution_count": 148
        }
      ]
    },
    {
      "cell_type": "code",
      "source": [
        "loss_fn = F.cross_entropy"
      ],
      "metadata": {
        "id": "eB_MlIUqsD6I"
      },
      "execution_count": 149,
      "outputs": []
    },
    {
      "cell_type": "code",
      "source": [
        "# loss for current batch of data\n",
        "loss = loss_fn(outputs, labels)\n",
        "print(loss)"
      ],
      "metadata": {
        "colab": {
          "base_uri": "https://localhost:8080/"
        },
        "id": "dMysfNo6sD8r",
        "outputId": "a86f6157-56da-41ba-c771-6509dfbe77ac"
      },
      "execution_count": 150,
      "outputs": [
        {
          "output_type": "stream",
          "name": "stdout",
          "text": [
            "tensor(2.3122, grad_fn=<NllLossBackward0>)\n"
          ]
        }
      ]
    },
    {
      "cell_type": "markdown",
      "source": [
        "# Training the model"
      ],
      "metadata": {
        "id": "yOL25DupsoU1"
      }
    },
    {
      "cell_type": "code",
      "source": [
        "def fit(epochs, lr, model, train_loader, val_loader, opt_func=torch.optim.SGD):\n",
        "  optimizer = opt_func(model.parameters(), lr)\n",
        "  history = []\n",
        "\n",
        "  for epoch in range(epochs):\n",
        "\n",
        "    # Training phase\n",
        "    for batch in train_loader:\n",
        "      loss = model.training_step(batch)\n",
        "      loss.backward()\n",
        "      optimizer.step()\n",
        "      optimizer.zero_grad()\n",
        "\n",
        "    # Validation phase\n",
        "    result = evaluate(model, val_loader)\n",
        "    model.epoch_end(epoch, result)\n",
        "    history.append(result)\n",
        "\n",
        "  return history"
      ],
      "metadata": {
        "id": "pXVBH8UysD_y"
      },
      "execution_count": 151,
      "outputs": []
    },
    {
      "cell_type": "code",
      "source": [
        "l1 = [1, 2, 3, 4, 5]\n",
        "l2 = [x*2 for x in l1]\n",
        "l2"
      ],
      "metadata": {
        "colab": {
          "base_uri": "https://localhost:8080/"
        },
        "id": "K_-O_xa2toMs",
        "outputId": "63ae2ae2-07fa-4e7b-a8d9-96851e67dfdf"
      },
      "execution_count": 152,
      "outputs": [
        {
          "output_type": "execute_result",
          "data": {
            "text/plain": [
              "[2, 4, 6, 8, 10]"
            ]
          },
          "metadata": {},
          "execution_count": 152
        }
      ]
    },
    {
      "cell_type": "code",
      "source": [
        "def evaluate(model, val_loader):\n",
        "  outputs = [model.validation_step(batch) for batch in val_loader]\n",
        "  return model.validation_epoch_end(outputs)"
      ],
      "metadata": {
        "id": "E3bhX_matoQt"
      },
      "execution_count": 153,
      "outputs": []
    },
    {
      "cell_type": "code",
      "source": [
        "class MnistModel(nn.Module):\n",
        "  def __init__(self):\n",
        "    super().__init__()\n",
        "    self.linear = nn.Linear(input_size, num_classes)\n",
        "\n",
        "  def forward(self, xb):\n",
        "    xb = xb.reshape(-1, 784)\n",
        "    out = self.linear(xb)\n",
        "    return out\n",
        "\n",
        "  def training_step(self, batch):\n",
        "    images, labels = batch\n",
        "    out = self(images)\n",
        "    loss = F.cross_entropy(out, labels)\n",
        "    return loss\n",
        "\n",
        "  def validation_step(self, batch):\n",
        "    images, labels = batch\n",
        "    out = self(images)\n",
        "    loss = F.cross_entropy(out, labels)\n",
        "    acc = accuracy(out, labels)\n",
        "    return {'val_loss': loss, 'val_acc': acc}\n",
        "\n",
        "  def validation_epoch_end(self, outputs):\n",
        "    batch_losses = [x['val_loss'] for x in outputs]\n",
        "    epoch_loss = torch.stack(batch_losses).mean()\n",
        "    batch_accs = [x['val_acc'] for x in outputs]\n",
        "    epoch_acc = torch.stack(batch_accs).mean()\n",
        "    return {'val_loss' : epoch_loss.item(), 'val_acc' : epoch_acc.item()} \n",
        "\n",
        "  def epoch_end(self, epoch, result):\n",
        "    print(\"Epoch [{}], val_loss: {:.4f}, val_acc: {:.4f}\".format(epoch, result['val_loss'], result['val_acc']))\n",
        "model = MnistModel()"
      ],
      "metadata": {
        "id": "LGv_YZ8htoXF"
      },
      "execution_count": 154,
      "outputs": []
    },
    {
      "cell_type": "code",
      "source": [
        "result0 = evaluate(model, val_loader)\n",
        "result0"
      ],
      "metadata": {
        "colab": {
          "base_uri": "https://localhost:8080/"
        },
        "id": "fWHE8CbFtocF",
        "outputId": "74167d75-ac2a-478d-8400-041eb7abbb66"
      },
      "execution_count": 155,
      "outputs": [
        {
          "output_type": "execute_result",
          "data": {
            "text/plain": [
              "{'val_acc': 0.09632120281457901, 'val_loss': 2.309290885925293}"
            ]
          },
          "metadata": {},
          "execution_count": 155
        }
      ]
    },
    {
      "cell_type": "code",
      "source": [
        "history1 = fit(5, 0.001, model, train_loader, val_loader)"
      ],
      "metadata": {
        "colab": {
          "base_uri": "https://localhost:8080/"
        },
        "id": "aCS9ItHotofI",
        "outputId": "25bef920-d8de-4a5a-d1d6-88bf0163a2f4"
      },
      "execution_count": 156,
      "outputs": [
        {
          "output_type": "stream",
          "name": "stdout",
          "text": [
            "Epoch [0], val_loss: 1.9508, val_acc: 0.5905\n",
            "Epoch [1], val_loss: 1.6841, val_acc: 0.7150\n",
            "Epoch [2], val_loss: 1.4842, val_acc: 0.7568\n",
            "Epoch [3], val_loss: 1.3327, val_acc: 0.7848\n",
            "Epoch [4], val_loss: 1.2159, val_acc: 0.7979\n"
          ]
        }
      ]
    },
    {
      "cell_type": "code",
      "source": [
        "history2 = fit(5, 0.001, model, train_loader, val_loader)"
      ],
      "metadata": {
        "colab": {
          "base_uri": "https://localhost:8080/"
        },
        "id": "ev_HS7Kqtoit",
        "outputId": "42ae10f0-de34-400b-93be-38be4f33db37"
      },
      "execution_count": 157,
      "outputs": [
        {
          "output_type": "stream",
          "name": "stdout",
          "text": [
            "Epoch [0], val_loss: 1.1241, val_acc: 0.8080\n",
            "Epoch [1], val_loss: 1.0504, val_acc: 0.8140\n",
            "Epoch [2], val_loss: 0.9901, val_acc: 0.8207\n",
            "Epoch [3], val_loss: 0.9399, val_acc: 0.8248\n",
            "Epoch [4], val_loss: 0.8975, val_acc: 0.8281\n"
          ]
        }
      ]
    },
    {
      "cell_type": "code",
      "source": [
        "history3 = fit(5, 0.001, model, train_loader, val_loader)"
      ],
      "metadata": {
        "colab": {
          "base_uri": "https://localhost:8080/"
        },
        "id": "NtDJBNDU18x8",
        "outputId": "bcd6582a-6c3a-4c2d-853f-3c5840c8c934"
      },
      "execution_count": 158,
      "outputs": [
        {
          "output_type": "stream",
          "name": "stdout",
          "text": [
            "Epoch [0], val_loss: 0.8613, val_acc: 0.8336\n",
            "Epoch [1], val_loss: 0.8298, val_acc: 0.8380\n",
            "Epoch [2], val_loss: 0.8023, val_acc: 0.8408\n",
            "Epoch [3], val_loss: 0.7780, val_acc: 0.8428\n",
            "Epoch [4], val_loss: 0.7565, val_acc: 0.8452\n"
          ]
        }
      ]
    },
    {
      "cell_type": "code",
      "source": [
        "history4 = fit(5, 0.001, model, train_loader, val_loader)"
      ],
      "metadata": {
        "colab": {
          "base_uri": "https://localhost:8080/"
        },
        "id": "cCGTKF0D1_YG",
        "outputId": "7ea0abb0-1716-4f6d-f891-3d4263519491"
      },
      "execution_count": 159,
      "outputs": [
        {
          "output_type": "stream",
          "name": "stdout",
          "text": [
            "Epoch [0], val_loss: 0.7371, val_acc: 0.8459\n",
            "Epoch [1], val_loss: 0.7197, val_acc: 0.8478\n",
            "Epoch [2], val_loss: 0.7038, val_acc: 0.8489\n",
            "Epoch [3], val_loss: 0.6894, val_acc: 0.8505\n",
            "Epoch [4], val_loss: 0.6762, val_acc: 0.8520\n"
          ]
        }
      ]
    },
    {
      "cell_type": "code",
      "source": [
        "history = [result0] + history1 + history2 + history3 + history4\n",
        "accuracies = [result['val_acc'] for result in history]\n",
        "plt.plot(accuracies, '-x')\n",
        "plt.xlabel('epoch')\n",
        "plt.ylabel('accuracy')\n",
        "plt.title('Accuracy vs. No. of epochs');"
      ],
      "metadata": {
        "colab": {
          "base_uri": "https://localhost:8080/",
          "height": 295
        },
        "id": "YaKQ28eX1z1e",
        "outputId": "c180f871-e1ab-41ad-8c91-b8dd8cdabdbf"
      },
      "execution_count": 160,
      "outputs": [
        {
          "output_type": "display_data",
          "data": {
            "image/png": "[encoded data removed]",
            "text/plain": [
              "<Figure size 432x288 with 1 Axes>"
            ]
          },
          "metadata": {
            "needs_background": "light"
          }
        }
      ]
    },
    {
      "cell_type": "code",
      "source": [
        ""
      ],
      "metadata": {
        "id": "R72r81Yq1z4l"
      },
      "execution_count": 160,
      "outputs": []
    },
    {
      "cell_type": "markdown",
      "source": [
        "# Test on individual images"
      ],
      "metadata": {
        "id": "Yxass6vHgrO4"
      }
    },
    {
      "cell_type": "code",
      "source": [
        "# Define test dataset\n",
        "test_dataset = MNIST(root='data/', \n",
        "                     train=False,\n",
        "                     transform=transforms.ToTensor())"
      ],
      "metadata": {
        "id": "VEtypsFPgiXf"
      },
      "execution_count": 161,
      "outputs": []
    },
    {
      "cell_type": "code",
      "source": [
        "img, label = test_dataset[0]\n",
        "plt.imshow(img[0], cmap='gray')\n",
        "print('Shape:', img.shape)\n",
        "print('Label:', label)"
      ],
      "metadata": {
        "colab": {
          "base_uri": "https://localhost:8080/",
          "height": 300
        },
        "id": "6Mnz1lckgiey",
        "outputId": "7fa5811a-e8bf-4e06-d267-82e6c170ea46"
      },
      "execution_count": 162,
      "outputs": [
        {
          "output_type": "stream",
          "name": "stdout",
          "text": [
            "Shape: torch.Size([1, 28, 28])\n",
            "Label: 7\n"
          ]
        },
        {
          "output_type": "display_data",
          "data": {
            "image/png": "[encoded data removed]",
            "text/plain": [
              "<Figure size 432x288 with 1 Axes>"
            ]
          },
          "metadata": {
            "needs_background": "light"
          }
        }
      ]
    },
    {
      "cell_type": "code",
      "source": [
        "def predict_image(img, model):\n",
        "  xb = img.unsqueeze(0)\n",
        "  # .unsqueeze add another dimension at the beginning of the 1x28x28 tensor\n",
        "  # => it makes a 1x1x28x28 tensor\n",
        "  yb = model(xb)\n",
        "  _, preds = torch.max(yb, dim=1)\n",
        "  return preds[0].item()"
      ],
      "metadata": {
        "id": "pBPLYA2EgihU"
      },
      "execution_count": 163,
      "outputs": []
    },
    {
      "cell_type": "code",
      "source": [
        "img, label = test_dataset[0]\n",
        "plt.imshow(img[0], cmap='gray')\n",
        "print('Label:', label, 'Predicted:', predict_image(img, model))"
      ],
      "metadata": {
        "colab": {
          "base_uri": "https://localhost:8080/",
          "height": 282
        },
        "id": "6jpEd2izgikK",
        "outputId": "224d640e-f956-4a9f-d725-5cd817e910e8"
      },
      "execution_count": 164,
      "outputs": [
        {
          "output_type": "stream",
          "name": "stdout",
          "text": [
            "Label: 7 Predicted: 7\n"
          ]
        },
        {
          "output_type": "display_data",
          "data": {
            "image/png": "[encoded data removed]",
            "text/plain": [
              "<Figure size 432x288 with 1 Axes>"
            ]
          },
          "metadata": {
            "needs_background": "light"
          }
        }
      ]
    },
    {
      "cell_type": "code",
      "source": [
        "img, label = test_dataset[10]\n",
        "plt.imshow(img[0], cmap='gray')\n",
        "print('Label:', label, 'Predicted:', predict_image(img, model))"
      ],
      "metadata": {
        "colab": {
          "base_uri": "https://localhost:8080/",
          "height": 282
        },
        "id": "w6KWOBnHgim4",
        "outputId": "9a430d36-7c97-49bf-8aa9-c0c26f59d14b"
      },
      "execution_count": 165,
      "outputs": [
        {
          "output_type": "stream",
          "name": "stdout",
          "text": [
            "Label: 0 Predicted: 0\n"
          ]
        },
        {
          "output_type": "display_data",
          "data": {
            "image/png": "[encoded data removed]",
            "text/plain": [
              "<Figure size 432x288 with 1 Axes>"
            ]
          },
          "metadata": {
            "needs_background": "light"
          }
        }
      ]
    },
    {
      "cell_type": "code",
      "source": [
        "img, label = test_dataset[193]\n",
        "plt.imshow(img[0], cmap='gray')\n",
        "print('Label:', label, 'Predicted:', predict_image(img, model))"
      ],
      "metadata": {
        "colab": {
          "base_uri": "https://localhost:8080/",
          "height": 282
        },
        "id": "GPJpfbLzgiqI",
        "outputId": "48768167-60d1-42ff-c865-9aad941938cb"
      },
      "execution_count": 166,
      "outputs": [
        {
          "output_type": "stream",
          "name": "stdout",
          "text": [
            "Label: 9 Predicted: 9\n"
          ]
        },
        {
          "output_type": "display_data",
          "data": {
            "image/png": "[encoded data removed]",
            "text/plain": [
              "<Figure size 432x288 with 1 Axes>"
            ]
          },
          "metadata": {
            "needs_background": "light"
          }
        }
      ]
    },
    {
      "cell_type": "code",
      "source": [
        ""
      ],
      "metadata": {
        "id": "Kiqme8Nw1z7q"
      },
      "execution_count": 160,
      "outputs": []
    }
  ]
}